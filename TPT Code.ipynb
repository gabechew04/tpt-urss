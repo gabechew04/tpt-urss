{
 "cells": [
  {
   "cell_type": "markdown",
   "id": "51382298-887f-4e91-a701-5dc3888445e4",
   "metadata": {},
   "source": [
    "# <font color = 'blue'> __5 State Time Homogeneous Markov Chain - Code__\n",
    "\n",
    "We consider a time homogeneous Markov Chain with the transition matrix $P(n) = P ,\\text{      } \\forall n$. We take the finite time $N = 5$. (Helfmann et al. 2020)\n",
    "\\begin{equation}\n",
    "P = \n",
    "\\begin{pmatrix}\n",
    "0.7 & 0.2 & 0.0 & 0.1 & 0.0 \\\\\n",
    "0.1 & 0 & 0.8 & 0 & 0.1 \\\\\n",
    "0 & 0.4 & 0.6 & 0 & 0 \\\\\n",
    "0.5 & 0 & 0 & 0 & 0.5 \\\\\n",
    "0 & 0.2 & 0 & 0.1 & 0.7 \n",
    "\\end{pmatrix}\n",
    "\\end{equation}"
   ]
  },
  {
   "cell_type": "markdown",
   "id": "7bb52a12-34c0-4e79-9175-284df1745c64",
   "metadata": {},
   "source": [
    "## <font color = 'blue'> Directory\n",
    "[1.1 Computation of Committors](#1.1)\n",
    "- [1.1.1 Forward Committors](#1.1.1)\n",
    "- [1.1.2 Backward Committors for the Stationary Distribution](#1.1.2)\n",
    "- [1.1.3 Backward Committors for a General Initial Distribution](#1.1.3)"
   ]
  },
  {
   "cell_type": "code",
   "execution_count": 17,
   "id": "6b7b2968-c954-4034-88b9-3942e7ab084b",
   "metadata": {},
   "outputs": [],
   "source": [
    "import numpy as np\n",
    "from tpt_gc import reverse_process, forward_committors, backward_committors"
   ]
  },
  {
   "cell_type": "markdown",
   "id": "81d537c1-7372-4985-becc-559e7dd015ef",
   "metadata": {},
   "source": [
    "## <a id='1.1'> <font color = 'blue'> 1.1 Computation of Committors </a>"
   ]
  },
  {
   "cell_type": "code",
   "execution_count": 25,
   "id": "64c6be6c-df66-4b9c-b07d-e4597a96d719",
   "metadata": {},
   "outputs": [],
   "source": [
    "P = np.array([[0.7, 0.2, 0.0, 0.1, 0.0], # Transition matrix of Markov Chain\n",
    "             [0.1, 0.0, 0.8, 0, 0.1],\n",
    "             [0.0, 0.4, 0.6, 0.0, 0.0],\n",
    "             [0.5, 0.0, 0.0, 0.0, 0.5],\n",
    "             [0.0, 0.2, 0.0, 0.1, 0.7]])\n",
    "size = len(P)\n",
    "\n",
    "pi_0 = [0.5, 0.5, 0, 0, 0] # Initial distribution\n",
    "\n",
    "N = 5\n",
    "\n",
    "A = [0]\n",
    "B = [4]\n"
   ]
  },
  {
   "cell_type": "markdown",
   "id": "5dbeebe4-744b-4c4a-a366-d8e51f1799f5",
   "metadata": {},
   "source": [
    "## <a id='1.1.1'> <font color = 'blue'> 1.1.1 Forward Committors </a>"
   ]
  },
  {
   "cell_type": "code",
   "execution_count": 5,
   "id": "8cd26c62-fb71-414d-852d-cac5e5244012",
   "metadata": {},
   "outputs": [
    {
     "name": "stdout",
     "output_type": "stream",
     "text": [
      "[[0.      0.17296 0.1152  0.5     1.     ]\n",
      " [0.      0.1512  0.0912  0.5     1.     ]\n",
      " [0.      0.132   0.064   0.5     1.     ]\n",
      " [0.      0.1     0.04    0.5     1.     ]\n",
      " [0.      0.1     0.      0.5     1.     ]]\n"
     ]
    }
   ],
   "source": [
    "final_distribution = np.array([0, 0, 0, 0, 1])\n",
    "\n",
    "# Initialise the committors from time T = 0 to T = 4\n",
    "forward_committors = np.zeros((5,5))\n",
    "P = np.array([[0.7, 0.2, 0.0, 0.1, 0.0], \n",
    "             [0.1, 0.0, 0.8, 0, 0.1],\n",
    "             [0.0, 0.4, 0.6, 0.0, 0.0],\n",
    "             [0.5, 0.0, 0.0, 0.0, 0.5],\n",
    "             [0.0, 0.2, 0.0, 0.1, 0.7]])\n",
    "\n",
    "for i in range(4, -1, -1):\n",
    "    if i == 4:\n",
    "        committor_n = final_distribution\n",
    "    committor_n =  P @ committor_n\n",
    "    committor_n[0] = 0\n",
    "    committor_n[4] = 1\n",
    "    forward_committors[i] = committor_n\n",
    "\n",
    "print(forward_committors)"
   ]
  },
  {
   "cell_type": "code",
   "execution_count": 13,
   "id": "547daf3d-3793-4539-aa18-ef0d72a6d1e0",
   "metadata": {},
   "outputs": [],
   "source": [
    "from tpt_gc import forward_committors\n",
    "\n",
    "q_plus = forward_committors(P, N, A, B)"
   ]
  },
  {
   "cell_type": "markdown",
   "id": "ab30dc18-d03b-43e1-a6ae-eb9ea3e72924",
   "metadata": {},
   "source": [
    "### <a id='1.1.2'> <font color = 'blue'> 1.1.2 Backward Committors for the Invariant Distribution </a>"
   ]
  },
  {
   "cell_type": "code",
   "execution_count": 277,
   "id": "3a3a7b84-8795-4ef5-a15f-911ce4694371",
   "metadata": {},
   "outputs": [
    {
     "data": {
      "text/plain": [
       "array([0.12195122, 0.24390244, 0.48780488, 0.02439024, 0.12195122])"
      ]
     },
     "execution_count": 277,
     "metadata": {},
     "output_type": "execute_result"
    }
   ],
   "source": [
    "# Computation of the invariant distribution of P \n",
    "eigenvalues, eigenvectors = np.linalg.eig(P.T)\n",
    "invariant = eigenvectors[:, eigenvalues == 1]\n",
    "invariant = invariant / invariant.sum(axis=0)\n",
    "\n",
    "invariant = invariant.reshape(5)\n",
    "invariant"
   ]
  },
  {
   "cell_type": "code",
   "execution_count": 319,
   "id": "0a6265cf-ec71-416e-8172-7d99532a993c",
   "metadata": {},
   "outputs": [],
   "source": [
    "P_reverse = np.zeros((5,5))\n",
    "\n",
    "for i in range(5):\n",
    "    for j in range(5):\n",
    "        P_reverse[i,j] = P[j, i] * (invariant[j] / invariant[i])"
   ]
  },
  {
   "cell_type": "code",
   "execution_count": 325,
   "id": "8a09d0c2-fd62-4c2b-8570-c5deea2ec4b9",
   "metadata": {},
   "outputs": [
    {
     "name": "stdout",
     "output_type": "stream",
     "text": [
      "[[1.      0.1     0.      0.5     0.     ]\n",
      " [1.      0.1     0.04    0.5     0.     ]\n",
      " [1.      0.132   0.064   0.5     0.     ]\n",
      " [1.      0.1512  0.0912  0.5     0.     ]\n",
      " [1.      0.17296 0.1152  0.5     0.     ]]\n"
     ]
    }
   ],
   "source": [
    "# Computing the backward committors:\n",
    "initial_distribution = np.array([1, 0, 0, 0, 0])\n",
    "\n",
    "# Initialise the committors from time T = 1 to T = 5\n",
    "backward_committors = np.zeros((5,5))\n",
    "\n",
    "for i in range(5):\n",
    "    if i == 0:\n",
    "        backward_committor_n = initial_distribution\n",
    "    backward_committor_n = P_reverse @ backward_committor_n \n",
    "    backward_committor_n[0] = 1\n",
    "    backward_committor_n[4] = 0\n",
    "    backward_committors[i] = backward_committor_n\n",
    "\n",
    "print(backward_committors)"
   ]
  },
  {
   "cell_type": "code",
   "execution_count": null,
   "id": "e60a3f48-ba43-4453-812c-4f17e76895bd",
   "metadata": {},
   "outputs": [],
   "source": [
    "q_minus"
   ]
  },
  {
   "cell_type": "markdown",
   "id": "ef430905-ac59-4fa8-b013-3054f4558ea7",
   "metadata": {},
   "source": [
    "### <a id='1.1.3'> <font color = 'blue'> 1.1.3 Backward Committors for the General Case </a>\n",
    "In this section, an algorithm to determine which entries in the distribution need to be filled in to ensure well-defined time-reversal transition matrices was coded."
   ]
  },
  {
   "cell_type": "code",
   "execution_count": 7,
   "id": "f9f76352-5613-4c70-b0a2-82f316714475",
   "metadata": {},
   "outputs": [
    {
     "data": {
      "text/plain": [
       "[0, 1]"
      ]
     },
     "execution_count": 7,
     "metadata": {},
     "output_type": "execute_result"
    }
   ],
   "source": [
    "# Algorithm for determining which entries should be filled in, based on the intention of filling in the least number of rows in the distribution.\n",
    "def least_nonzero_rows(matrix):\n",
    "    zero_cols = np.array([True for i in range(len(matrix.T))]) \n",
    "    entries_to_fill = []\n",
    "\n",
    "    while zero_cols.any():\n",
    "    #    \"\"\"\n",
    "    #    max_non_zeros = 0\n",
    "    #    max_non_zeros_idx = None\n",
    "    #    for key, val in matrix_columns.items():\n",
    "    #        non_zeros = np.count_nonzero(val != 0)\n",
    "    #       if non_zeros > max_non_zeros:\n",
    "    #            max_non_zero = non_zeros \n",
    "    #            max_non_zero_idx = key\n",
    "    #    \"\"\"\n",
    "        non_zeros = np.sum(matrix[:, zero_cols] != 0, axis=1)\n",
    "        entries_to_fill.append(np.argmax(non_zeros)) # Find the row with the most non-zero columns \n",
    "        # Index the row with the most non-zero entries\n",
    "        zero_cols = np.where((matrix[np.argmax(non_zeros)] == 0) & (zero_cols == True), zero_cols, False) \n",
    "        \n",
    "    return entries_to_fill\n",
    "    \n",
    "least_nonzero_rows(P)"
   ]
  },
  {
   "cell_type": "code",
   "execution_count": null,
   "id": "5e1a6105-102d-4b21-8f69-6c57490831a6",
   "metadata": {},
   "outputs": [],
   "source": [
    "P_reverse, distributions = reverse_process(P, pi_0, N)\n",
    "    \n",
    "q_minus = backward_committors(P_reverse, N, A, B)"
   ]
  },
  {
   "cell_type": "markdown",
   "id": "f368a06f-5495-497e-bfea-f2473380cabc",
   "metadata": {},
   "source": [
    "## <a id='1.2'> <font color = 'blue'> 1.2 Visualisation of Statistics </a>"
   ]
  },
  {
   "cell_type": "code",
   "execution_count": 27,
   "id": "67378c28-5113-435b-aa33-8571708e4982",
   "metadata": {},
   "outputs": [],
   "source": [
    "import matplotlib.pyplot as plt\n",
    "\n",
    "reactive_distributions = np.zeros((N+1, size))\n",
    "\n",
    "for i in range(N+1):\n",
    "    reactive_distributions[i] = q_plus[i] * distributions[i] * q_minus[i]"
   ]
  },
  {
   "cell_type": "code",
   "execution_count": 32,
   "id": "fb0dde65-601d-40e1-97c8-df4fee5de57d",
   "metadata": {},
   "outputs": [
    {
     "name": "stdout",
     "output_type": "stream",
     "text": [
      "[0. 0. 0. 0. 0.]\n",
      "[0.      0.01512 0.      0.025   0.     ]\n",
      "[0.      0.01056 0.00512 0.02    0.     ]\n",
      "[0.      0.0095  0.00448 0.01575 0.     ]\n",
      "[0.      0.00984 0.      0.0134  0.     ]\n"
     ]
    }
   ],
   "source": [
    "for T in range(N):\n",
    "    #plt.imshow(reactive_distributions[T])\n",
    "    #plt.title(f'Probability of state and reactive at $T = {T}$')\n",
    "    #plt.colorbar()\n",
    "   # plt.show()\n",
    "    print(reactive_distributions[T])"
   ]
  },
  {
   "cell_type": "code",
   "execution_count": null,
   "id": "b5e706cc-8fbf-45dc-9288-0f539cd54314",
   "metadata": {},
   "outputs": [],
   "source": []
  }
 ],
 "metadata": {
  "kernelspec": {
   "display_name": "Python 3 (ipykernel)",
   "language": "python",
   "name": "python3"
  },
  "language_info": {
   "codemirror_mode": {
    "name": "ipython",
    "version": 3
   },
   "file_extension": ".py",
   "mimetype": "text/x-python",
   "name": "python",
   "nbconvert_exporter": "python",
   "pygments_lexer": "ipython3",
   "version": "3.12.4"
  }
 },
 "nbformat": 4,
 "nbformat_minor": 5
}
